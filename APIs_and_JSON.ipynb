{
 "cells": [
  {
   "cell_type": "markdown",
   "metadata": {},
   "source": [
    "Consuming APIs (and JSON)\n",
    "================\n",
    "Consuming APIs is supposed to be easy (that's the point of having an API).  \n",
    "\n",
    "Let's look at a simple example of consuming a JSON API.  The example we'll look at is a *geocoder*: That is, a service for converting between addresses and normalized geographic information (e.g., latitude and longitude).  Going from addresses to normalized form is \"forward geocoding\" and going the other way is \"reverse geocoding\".\n",
    "\n",
    "We'll interact with a free (and non-authenticated) geocoder run by OpenStreetMap:"
   ]
  },
  {
   "cell_type": "code",
   "execution_count": 1,
   "metadata": {
    "collapsed": false
   },
   "outputs": [],
   "source": [
    "import urllib2, json\n",
    "def geocode(address):\n",
    "    url = \"http://nominatim.openstreetmap.org/search?q=%s&addressdetails=1&format=json\" % (urllib2.quote(address),)\n",
    "    ret = urllib2.urlopen(url).read()\n",
    "    return json.loads(ret)"
   ]
  },
  {
   "cell_type": "code",
   "execution_count": 2,
   "metadata": {
    "collapsed": false
   },
   "outputs": [
    {
     "data": {
      "text/plain": [
       "[{u'address': {u'city': u'SF',\n",
       "   u'country': u'United States of America',\n",
       "   u'country_code': u'us',\n",
       "   u'county': u'SF',\n",
       "   u'house_number': u'865',\n",
       "   u'neighbourhood': u'North of Panhandle',\n",
       "   u'postcode': u'94117',\n",
       "   u'road': u'Page Street',\n",
       "   u'state': u'California'},\n",
       "  u'boundingbox': [u'37.772362897959',\n",
       "   u'37.772462897959',\n",
       "   u'-122.43498053061',\n",
       "   u'-122.43488053061'],\n",
       "  u'class': u'place',\n",
       "  u'display_name': u'865, Page Street, North of Panhandle, SF, California, 94117, United States of America',\n",
       "  u'importance': 0.301,\n",
       "  u'lat': u'37.7724128979592',\n",
       "  u'licence': u'Data \\xa9 OpenStreetMap contributors, ODbL 1.0. http://www.openstreetmap.org/copyright',\n",
       "  u'lon': u'-122.434930530612',\n",
       "  u'place_id': u'454066711',\n",
       "  u'type': u'house'}]"
      ]
     },
     "execution_count": 2,
     "metadata": {},
     "output_type": "execute_result"
    }
   ],
   "source": [
    "my_home = geocode(\"865 page st, san francisco, ca 94117\")\n",
    "my_home"
   ]
  },
  {
   "cell_type": "markdown",
   "metadata": {},
   "source": [
    "You can also select out elements of json blobs in \"the natural way\":"
   ]
  },
  {
   "cell_type": "code",
   "execution_count": 3,
   "metadata": {
    "collapsed": false
   },
   "outputs": [
    {
     "data": {
      "text/plain": [
       "[u'37.772362897959',\n",
       " u'37.772462897959',\n",
       " u'-122.43498053061',\n",
       " u'-122.43488053061']"
      ]
     },
     "execution_count": 3,
     "metadata": {},
     "output_type": "execute_result"
    }
   ],
   "source": [
    "my_home[0]['boundingbox']"
   ]
  },
  {
   "cell_type": "code",
   "execution_count": 4,
   "metadata": {
    "collapsed": false
   },
   "outputs": [
    {
     "data": {
      "text/plain": [
       "{u'city': u'SF',\n",
       " u'country': u'United States of America',\n",
       " u'country_code': u'us',\n",
       " u'county': u'SF',\n",
       " u'house_number': u'865',\n",
       " u'neighbourhood': u'North of Panhandle',\n",
       " u'postcode': u'94117',\n",
       " u'road': u'Page Street',\n",
       " u'state': u'California'}"
      ]
     },
     "execution_count": 4,
     "metadata": {},
     "output_type": "execute_result"
    }
   ],
   "source": [
    "my_home[0]['address']"
   ]
  },
  {
   "cell_type": "markdown",
   "metadata": {},
   "source": [
    "Things to note:\n",
    "---------------\n",
    "\n",
    "1.  In this case, the request parameters were encoded in the URL itself.  This is usually the case for simple \"`GET`\" queries.  Because our string contained characters like spaces, we had to \"URL encode\" it (this is what `urllib2.quote`) does.  It's usually a bad idea to do your own encoding like this: below we'll talk about the `requests` library, which lets us avoid this.\n",
    "\n",
    "2. The result was returned to us in the form of _JSON_.  JSON is JavaScript Object Notation -- it's a human readable text-based format for transmiting key-value pairs (and strings, numbers, and arrays).  The `json` package lets us convert between this and Python's native dictionaries (etc.).\n",
    " \n",
    "3. This was a public API, with no authentication.  We'll go through an example of the code for an authenticated API at the end -- the example will be the free Twitter stream.  (The reason we didn't do this up front is that you can't run the code without signing up for an API key, etc.)"
   ]
  },
  {
   "cell_type": "code",
   "execution_count": 5,
   "metadata": {
    "collapsed": false
   },
   "outputs": [
    {
     "name": "stdout",
     "output_type": "stream",
     "text": [
      "1600 Pennsylvania Avenue, Washington, DC\n",
      "\n",
      "http://nominatim.openstreetmap.org/search?q=1600%20Pennsylvania%20Avenue%2C%20Washington%2C%20DC&addressdetails=1&format=json\n",
      "\n",
      "[{\"place_id\":\"2577064361\",\"licence\":\"Data © OpenStreetMap contributors, ODbL 1.0. http:\\/\\/www.openstreetmap.org\\/copyright\",\"osm_type\":\"way\",\"osm_id\":\"238241022\",\"boundingbox\":[\"38.8974898\",\"38.897911\",\"-77.0368539\",\"-77.0362521\"],\"lat\":\"38.8976989\",\"lon\":\"-77.036553192281\",\"display_name\":\"The White House, 1600, Pennsylvania Avenue Northwest, Monumental Core, District of Columbia, 20500, United States of America\",\"class\":\"building\",\"type\":\"yes\",\"importance\":0.80767573872961,\"address\":{\"building\":\"The White House\",\"house_number\":\"1600\",\"pedestrian\":\"Pennsylvania Avenue Northwest\",\"neighbourhood\":\"Monumental Core\",\"state\":\"District of Columbia\",\"postcode\":\"20500\",\"country\":\"United States of America\",\"country_code\":\"us\"}},{\"place_id\":\"27049449\",\"licence\":\"Data © OpenStreetMap contributors, ODbL 1.0. http:\\/\\/www.openstreetmap.org\\/copyright\",\"osm_type\":\"node\",\"osm_id\":\"2633633933\",\"boundingbox\":[38.897668,38.897768,-77.0365982,-77.0364982],\"lat\":\"38.897718\",\"lon\":\"-77.0365482\",\"display_name\":\"1600, Pennsylvania Avenue Northwest, Monumental Core, District of Columbia, 20006, United States of America\",\"class\":\"man_made\",\"type\":\"flagpole\",\"importance\":0.201,\"address\":{\"house_number\":\"1600\",\"pedestrian\":\"Pennsylvania Avenue Northwest\",\"neighbourhood\":\"Monumental Core\",\"state\":\"District of Columbia\",\"postcode\":\"20006\",\"country\":\"United States of America\",\"country_code\":\"us\"}}]\n",
      "\n",
      "[{u'display_name': u'The White House, 1600, Pennsylvania Avenue Northwest, Monumental Core, District of Columbia, 20500, United States of America', u'importance': 0.80767573872961, u'place_id': u'2577064361', u'lon': u'-77.036553192281', u'lat': u'38.8976989', u'osm_type': u'way', u'licence': u'Data \\xa9 OpenStreetMap contributors, ODbL 1.0. http://www.openstreetmap.org/copyright', u'osm_id': u'238241022', u'boundingbox': [u'38.8974898', u'38.897911', u'-77.0368539', u'-77.0362521'], u'type': u'yes', u'class': u'building', u'address': {u'building': u'The White House', u'house_number': u'1600', u'country': u'United States of America', u'pedestrian': u'Pennsylvania Avenue Northwest', u'state': u'District of Columbia', u'postcode': u'20500', u'country_code': u'us', u'neighbourhood': u'Monumental Core'}}, {u'display_name': u'1600, Pennsylvania Avenue Northwest, Monumental Core, District of Columbia, 20006, United States of America', u'importance': 0.201, u'place_id': u'27049449', u'lon': u'-77.0365482', u'lat': u'38.897718', u'osm_type': u'node', u'licence': u'Data \\xa9 OpenStreetMap contributors, ODbL 1.0. http://www.openstreetmap.org/copyright', u'osm_id': u'2633633933', u'boundingbox': [38.897668, 38.897768, -77.0365982, -77.0364982], u'type': u'flagpole', u'class': u'man_made', u'address': {u'house_number': u'1600', u'country': u'United States of America', u'pedestrian': u'Pennsylvania Avenue Northwest', u'state': u'District of Columbia', u'postcode': u'20006', u'country_code': u'us', u'neighbourhood': u'Monumental Core'}}]\n"
     ]
    }
   ],
   "source": [
    "address = \"1600 Pennsylvania Avenue, Washington, DC\"\n",
    "urllib2.quote(address)\n",
    "url = \"http://nominatim.openstreetmap.org/search?q=%s&addressdetails=1&format=json\" % (urllib2.quote(address),)\n",
    "\n",
    "print address\n",
    "print\n",
    "print url\n",
    "print\n",
    "print urllib2.urlopen(url).read()\n",
    "print\n",
    "print json.loads(urllib2.urlopen(url).read())"
   ]
  },
  {
   "cell_type": "markdown",
   "metadata": {},
   "source": [
    "To make it easier to see what's going on, let's pretty-print that JSON object:\n",
    "\n",
    "    [\n",
    "       {\"place_id\":\"9163027846\",\n",
    "        \"licence\":\"Data \\u00a9 OpenStreetMap contributors, ODbL 1.0. http:\\/\\/www.openstreetmap.org\\/copyright\",\n",
    "        \"osm_type\":\"way\",\n",
    "        \"osm_id\":\"11557939\",\n",
    "        \"boundingbox\": [\"39.655891418457\", \"39.6572189331055\", \n",
    "                        \"-77.5709609985352\", \"-77.5705108642578\"],\n",
    "        \"lat\":\"39.6566765\",\n",
    "        \"lon\":\"-77.5708067\",\n",
    "        \"display_name\":\"Pennsylvania Avenue, Smithsburg, Washington, Maryland, 21783, United States of America\",\n",
    "        \"class\":\"highway\",\n",
    "        \"type\":\"tertiary\",\n",
    "        \"importance\":0.41,\n",
    "        \"address\": {\"road\":\"Pennsylvania Avenue\",\n",
    "                    \"town\":\"Smithsburg\", \n",
    "                    \"county\":\"Washington\", \n",
    "                    \"state\":\"Maryland\", \n",
    "                    \"postcode\":\"21783\", \n",
    "                    \"country\":\"United States of America\", \n",
    "                    \"country_code\":\"us\"\n",
    "                   }\n",
    "       }\n",
    "    ]\n",
    "\n",
    "Just like in Python, `[..]` is for arrays and `{..}` is for a dictionary.  This is pretty much all there is to JSON.\n"
   ]
  },
  {
   "cell_type": "markdown",
   "metadata": {},
   "source": [
    "**Exercise**: There's also a free API for weather information at http://api.openweathermap.org.  \n",
    "\n",
    "A sample request might be look something like\n",
    "        http://api.openweathermap.org/data/2.5/weather?lat=35&lon=139\n",
    "        \n",
    "        \n",
    "Use the geocoder to write a function\n",
    "\n",
    "        def weather_at_address(address):\n",
    "            ....\n",
    "            \n",
    "that gets the current weather (temperature, cloudy or not) from a human entered address."
   ]
  },
  {
   "cell_type": "markdown",
   "metadata": {},
   "source": [
    "Easier parameters handling\n",
    "--------------------\n",
    "`urllib2` module requires an enormous amount of work to perform the simplest of the tasks. The `requests` library provides a higher-level way to do web requests. This is already nice in examples, like the above, where we need to URL encode parameters into the URL.  It is even more convenient when there are also `POST` parameters (or cookies, or authentication, or...) involved.  (Don't worry if you don't know what that means.)"
   ]
  },
  {
   "cell_type": "code",
   "execution_count": 6,
   "metadata": {
    "collapsed": false
   },
   "outputs": [],
   "source": [
    "import requests\n",
    "def geocode(address):\n",
    "    params = { 'format'        :'json', \n",
    "               'addressdetails': 1, \n",
    "               'q'             : address}\n",
    "    r = requests.get('http://nominatim.openstreetmap.org/search', params = params)\n",
    "    return r.json()"
   ]
  },
  {
   "cell_type": "code",
   "execution_count": 7,
   "metadata": {
    "collapsed": false
   },
   "outputs": [],
   "source": [
    "x = geocode(\"107 Page St., San Francisco\")"
   ]
  },
  {
   "cell_type": "code",
   "execution_count": 8,
   "metadata": {
    "collapsed": false
   },
   "outputs": [
    {
     "data": {
      "text/plain": [
       "{u'address': {u'city': u'SF',\n",
       "  u'country': u'United States of America',\n",
       "  u'country_code': u'us',\n",
       "  u'county': u'SF',\n",
       "  u'house_number': u'107',\n",
       "  u'neighbourhood': u'Western Addition',\n",
       "  u'postcode': u'94102',\n",
       "  u'road': u'Page Street',\n",
       "  u'state': u'California'},\n",
       " u'boundingbox': [u'37.773924413793',\n",
       "  u'37.774024413793',\n",
       "  u'-122.42266903448',\n",
       "  u'-122.42256903448'],\n",
       " u'class': u'place',\n",
       " u'display_name': u'107, Page Street, Western Addition, SF, California, 94102, United States of America',\n",
       " u'importance': 0.201,\n",
       " u'lat': u'37.7739744137931',\n",
       " u'licence': u'Data \\xa9 OpenStreetMap contributors, ODbL 1.0. http://www.openstreetmap.org/copyright',\n",
       " u'lon': u'-122.422619034483',\n",
       " u'place_id': u'454203115',\n",
       " u'type': u'house'}"
      ]
     },
     "execution_count": 8,
     "metadata": {},
     "output_type": "execute_result"
    }
   ],
   "source": [
    "x[0]"
   ]
  },
  {
   "cell_type": "markdown",
   "metadata": {},
   "source": [
    "Authenticated APIs\n",
    "--------------------\n",
    "Lots of interesting APIs are free (or at least free for moderate use) but still require you to register first.  The `requests` library (together with some supporting ones, e.g., `requests_oauthlib`) make it easy to consume these too.\n",
    "\n",
    "**Exercise**: In order to access the Twitter API, you must first sign up; create an app on http://apps.twitter.com, get an access token, et voila, you have your shiny new credentials -- consisting of four pieces of data:"
   ]
  },
  {
   "cell_type": "code",
   "execution_count": 11,
   "metadata": {
    "collapsed": false
   },
   "outputs": [
    {
     "ename": "IOError",
     "evalue": "[Errno 2] No such file or directory: 'secrets/twitter_secrets.json.sample'",
     "output_type": "error",
     "traceback": [
      "\u001b[1;31m---------------------------------------------------------------------------\u001b[0m",
      "\u001b[1;31mIOError\u001b[0m                                   Traceback (most recent call last)",
      "\u001b[1;32m<ipython-input-11-f3c68764210d>\u001b[0m in \u001b[0;36m<module>\u001b[1;34m()\u001b[0m\n\u001b[0;32m      2\u001b[0m \u001b[1;32mfrom\u001b[0m \u001b[0mrequests_oauthlib\u001b[0m \u001b[1;32mimport\u001b[0m \u001b[0mOAuth1\u001b[0m\u001b[1;33m\u001b[0m\u001b[0m\n\u001b[0;32m      3\u001b[0m \u001b[1;33m\u001b[0m\u001b[0m\n\u001b[1;32m----> 4\u001b[1;33m \u001b[1;32mwith\u001b[0m \u001b[0mopen\u001b[0m\u001b[1;33m(\u001b[0m\u001b[1;34m\"secrets/twitter_secrets.json.sample\"\u001b[0m\u001b[1;33m)\u001b[0m \u001b[1;32mas\u001b[0m \u001b[0mfh\u001b[0m\u001b[1;33m:\u001b[0m\u001b[1;33m\u001b[0m\u001b[0m\n\u001b[0m\u001b[0;32m      5\u001b[0m     \u001b[0msecrets\u001b[0m \u001b[1;33m=\u001b[0m \u001b[0msimplejson\u001b[0m\u001b[1;33m.\u001b[0m\u001b[0mloads\u001b[0m\u001b[1;33m(\u001b[0m\u001b[0mfh\u001b[0m\u001b[1;33m.\u001b[0m\u001b[0mread\u001b[0m\u001b[1;33m(\u001b[0m\u001b[1;33m)\u001b[0m\u001b[1;33m)\u001b[0m\u001b[1;33m\u001b[0m\u001b[0m\n\u001b[0;32m      6\u001b[0m \u001b[1;33m\u001b[0m\u001b[0m\n",
      "\u001b[1;31mIOError\u001b[0m: [Errno 2] No such file or directory: 'secrets/twitter_secrets.json.sample'"
     ]
    }
   ],
   "source": [
    "import simplejson\n",
    "from requests_oauthlib import OAuth1\n",
    "\n",
    "with open(\"../secrets/twitter_secrets.json.nogit\") as fh:\n",
    "    secrets = simplejson.loads(fh.read())\n",
    "    \n",
    "# create an auth object\n",
    "auth = OAuth1(\n",
    "    secrets[\"api_key\"],\n",
    "    secrets[\"api_secret\"],\n",
    "    secrets[\"access_token\"],\n",
    "    secrets[\"access_token_secret\"]\n",
    ")"
   ]
  },
  {
   "cell_type": "code",
   "execution_count": 12,
   "metadata": {
    "collapsed": false
   },
   "outputs": [
    {
     "ename": "NameError",
     "evalue": "name 'auth' is not defined",
     "output_type": "error",
     "traceback": [
      "\u001b[1;31m---------------------------------------------------------------------------\u001b[0m",
      "\u001b[1;31mNameError\u001b[0m                                 Traceback (most recent call last)",
      "\u001b[1;32m<ipython-input-12-b410628870c7>\u001b[0m in \u001b[0;36m<module>\u001b[1;34m()\u001b[0m\n\u001b[0;32m      1\u001b[0m \u001b[1;31m# See all of Michael's friends\u001b[0m\u001b[1;33m\u001b[0m\u001b[1;33m\u001b[0m\u001b[0m\n\u001b[1;32m----> 2\u001b[1;33m \u001b[0mr\u001b[0m \u001b[1;33m=\u001b[0m \u001b[0mrequests\u001b[0m\u001b[1;33m.\u001b[0m\u001b[0mget\u001b[0m\u001b[1;33m(\u001b[0m\u001b[1;34m\"https://api.twitter.com/1.1/friends/ids.json\"\u001b[0m\u001b[1;33m,\u001b[0m \u001b[0mauth\u001b[0m\u001b[1;33m=\u001b[0m\u001b[0mauth\u001b[0m\u001b[1;33m,\u001b[0m \u001b[0mparams\u001b[0m\u001b[1;33m=\u001b[0m\u001b[1;33m{\u001b[0m\u001b[1;34m'screen_name'\u001b[0m \u001b[1;33m:\u001b[0m \u001b[1;34m'tianhuil'\u001b[0m\u001b[1;33m}\u001b[0m\u001b[1;33m)\u001b[0m\u001b[1;33m\u001b[0m\u001b[0m\n\u001b[0m\u001b[0;32m      3\u001b[0m \u001b[0mmichaels_friends\u001b[0m\u001b[1;33m=\u001b[0m\u001b[0mr\u001b[0m\u001b[1;33m.\u001b[0m\u001b[0mjson\u001b[0m\u001b[1;33m(\u001b[0m\u001b[1;33m)\u001b[0m\u001b[1;33m\u001b[0m\u001b[0m\n\u001b[0;32m      4\u001b[0m \u001b[1;33m\u001b[0m\u001b[0m\n\u001b[0;32m      5\u001b[0m \u001b[0mr2\u001b[0m \u001b[1;33m=\u001b[0m \u001b[0mrequests\u001b[0m\u001b[1;33m.\u001b[0m\u001b[0mpost\u001b[0m\u001b[1;33m(\u001b[0m\u001b[1;34m'https://api.twitter.com/1.1/users/lookup.json'\u001b[0m\u001b[1;33m,\u001b[0m \u001b[0mauth\u001b[0m\u001b[1;33m=\u001b[0m\u001b[0mauth\u001b[0m\u001b[1;33m,\u001b[0m \u001b[0mdata\u001b[0m\u001b[1;33m=\u001b[0m\u001b[1;33m{\u001b[0m\u001b[1;34m'user_id'\u001b[0m \u001b[1;33m:\u001b[0m \u001b[0mmichaels_friends\u001b[0m\u001b[1;33m[\u001b[0m\u001b[1;34m'ids'\u001b[0m\u001b[1;33m]\u001b[0m\u001b[1;33m}\u001b[0m\u001b[1;33m)\u001b[0m\u001b[1;33m\u001b[0m\u001b[0m\n",
      "\u001b[1;31mNameError\u001b[0m: name 'auth' is not defined"
     ]
    }
   ],
   "source": [
    "# See all of Michael's friends\n",
    "r = requests.get(\"https://api.twitter.com/1.1/friends/ids.json\", auth=auth, params={'screen_name' : 'tianhuil'})\n",
    "michaels_friends=r.json()\n",
    "\n",
    "r2 = requests.post('https://api.twitter.com/1.1/users/lookup.json', auth=auth, data={'user_id' : michaels_friends['ids']})\n",
    "friends_info = r2.json()\n",
    "[(f['screen_name'], f['name']) for f in friends_info]"
   ]
  },
  {
   "cell_type": "code",
   "execution_count": 13,
   "metadata": {
    "collapsed": false
   },
   "outputs": [
    {
     "ename": "NameError",
     "evalue": "name 'auth' is not defined",
     "output_type": "error",
     "traceback": [
      "\u001b[1;31m---------------------------------------------------------------------------\u001b[0m",
      "\u001b[1;31mNameError\u001b[0m                                 Traceback (most recent call last)",
      "\u001b[1;32m<ipython-input-13-e5fbc312fa7f>\u001b[0m in \u001b[0;36m<module>\u001b[1;34m()\u001b[0m\n\u001b[0;32m      2\u001b[0m \u001b[1;33m\u001b[0m\u001b[0m\n\u001b[0;32m      3\u001b[0m \u001b[1;32mimport\u001b[0m \u001b[0mjson\u001b[0m\u001b[1;33m,\u001b[0m \u001b[0msys\u001b[0m\u001b[1;33m\u001b[0m\u001b[0m\n\u001b[1;32m----> 4\u001b[1;33m \u001b[0mr_stream\u001b[0m \u001b[1;33m=\u001b[0m \u001b[0mrequests\u001b[0m\u001b[1;33m.\u001b[0m\u001b[0mget\u001b[0m\u001b[1;33m(\u001b[0m\u001b[1;34m'https://stream.twitter.com/1.1/statuses/sample.json'\u001b[0m\u001b[1;33m,\u001b[0m \u001b[0mauth\u001b[0m\u001b[1;33m=\u001b[0m\u001b[0mauth\u001b[0m\u001b[1;33m,\u001b[0m \u001b[0mstream\u001b[0m\u001b[1;33m=\u001b[0m\u001b[0mTrue\u001b[0m\u001b[1;33m)\u001b[0m\u001b[1;33m\u001b[0m\u001b[0m\n\u001b[0m\u001b[0;32m      5\u001b[0m \u001b[0mcounter\u001b[0m \u001b[1;33m=\u001b[0m \u001b[1;36m0\u001b[0m\u001b[1;33m\u001b[0m\u001b[0m\n\u001b[0;32m      6\u001b[0m \u001b[1;32mfor\u001b[0m \u001b[0mline\u001b[0m \u001b[1;32min\u001b[0m \u001b[0mr_stream\u001b[0m\u001b[1;33m.\u001b[0m\u001b[0miter_lines\u001b[0m\u001b[1;33m(\u001b[0m\u001b[1;33m)\u001b[0m\u001b[1;33m:\u001b[0m\u001b[1;33m\u001b[0m\u001b[0m\n",
      "\u001b[1;31mNameError\u001b[0m: name 'auth' is not defined"
     ]
    }
   ],
   "source": [
    "## Requests also makes it easy to deal with simple streaming APIs.  Let's stream 100 tweets from the Twitter feed.\n",
    "\n",
    "import json, sys\n",
    "r_stream = requests.get('https://stream.twitter.com/1.1/statuses/sample.json', auth=auth, stream=True)\n",
    "counter = 0\n",
    "for line in r_stream.iter_lines():\n",
    "    # filter out keep-alive new lines\n",
    "    if not line:\n",
    "        continue\n",
    "    tweet = json.loads(line)\n",
    "    if 'text' in tweet:\n",
    "        counter +=1\n",
    "        print tweet['text']\n",
    "    sys.stdout.flush()\n",
    "    if counter > 100:\n",
    "        break"
   ]
  },
  {
   "cell_type": "code",
   "execution_count": null,
   "metadata": {
    "collapsed": false
   },
   "outputs": [],
   "source": [
    "## Here's a variant that's more US-centric.\n",
    "\n",
    "import json, sys\n",
    "r_stream = requests.post('https://stream.twitter.com/1.1/statuses/filter.json', auth=auth,\n",
    "                          stream=True, data={\"locations\" : \"-125,23,-70,50\"} )\n",
    "counter = 0\n",
    "for line in r_stream.iter_lines():\n",
    "    # filter out keep-alive new lines\n",
    "    if not line:\n",
    "        continue\n",
    "    tweet = json.loads(line)\n",
    "    if 'text' in tweet:\n",
    "        counter +=1\n",
    "        print tweet['text']\n",
    "    sys.stdout.flush()\n",
    "    if counter > 100:\n",
    "        break"
   ]
  },
  {
   "cell_type": "markdown",
   "metadata": {},
   "source": [
    "Exercises\n",
    "----------\n",
    "1. Write a Python script that takes as input an address and outputs 50 tweets from within about 10 miles of it.\n",
    "Now modify it to return the top 10 hashtags within that 10 mile range (based on, say, a 1000 tweet sample).\n",
    "1. You can plot maps using this [Python Package](http://peak5390.wordpress.com/2012/12/08/matplotlib-basemap-tutorial-plotting-points-on-a-simple-map/).  Get geo-located tweets from the streaming API and plot them on the map."
   ]
  },
  {
   "cell_type": "markdown",
   "metadata": {},
   "source": [
    "Further reading for this lecture\n",
    "------------\n",
    "To learn more about JSON (there isn't much more to know!):\n",
    " - http://www.secretgeek.net/json_3mins.asp\n",
    " - http://en.wikipedia.org/wiki/JSON (esp., \"Data types, syntax, and examples\")\n",
    " - http://tools.ietf.org/html/rfc7159\n",
    "\n",
    "A useful tool for playing with json on the command line is [jq](http://stedolan.github.io/jq/).\n",
    "\n",
    "To learn more about about the prevailing design pattern (\"REST\") for web-based APIs:\n",
    " - http://en.wikipedia.org/wiki/Representational_state_transfert\n",
    " \n",
    "One wildcard is the wide variety of authentication strategies employed (\"basic auth\", cookies, bearer token, OAuth, OAuth 2, ...).  For several of these, the documentation at http://docs.python-requests.org/en/latest/user/authentication/ is helpful."
   ]
  },
  {
   "cell_type": "code",
   "execution_count": null,
   "metadata": {
    "collapsed": false
   },
   "outputs": [],
   "source": []
  },
  {
   "cell_type": "markdown",
   "metadata": {},
   "source": [
    "*Copyright &copy; 2014 The Data Incubator.  All rights reserved.*"
   ]
  }
 ],
 "metadata": {
  "kernelspec": {
   "display_name": "Python 2",
   "language": "python",
   "name": "python2"
  },
  "language_info": {
   "codemirror_mode": {
    "name": "ipython",
    "version": 2
   },
   "file_extension": ".py",
   "mimetype": "text/x-python",
   "name": "python",
   "nbconvert_exporter": "python",
   "pygments_lexer": "ipython2",
   "version": "2.7.6"
  }
 },
 "nbformat": 4,
 "nbformat_minor": 0
}
