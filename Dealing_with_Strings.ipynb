{
 "metadata": {
  "name": "",
  "signature": "sha256:4319d3e648a9dddfff26ffe373faf2de20937d6bcc3a6843c61df8f6c1b911e5"
 },
 "nbformat": 3,
 "nbformat_minor": 0,
 "worksheets": [
  {
   "cells": [
    {
     "cell_type": "markdown",
     "metadata": {},
     "source": [
      "Goals\n",
      "===========\n",
      " - Strings in Python (.. and other things)\n",
      " - Basic string processing in Python\n",
      " - Regular expressions"
     ]
    },
    {
     "cell_type": "markdown",
     "metadata": {},
     "source": [
      "Strings in Python\n",
      "===========\n",
      "\n",
      "What is a string, and how do we enter them?\n",
      "-----------\n",
      "A string is a .. well, a _string of characters_.  In Python it's indicated by surrounding it with either single or double quotes:\n",
      "\n",
      "        'The quick brown fox jumped over the lazy dog'\n",
      "        \"The quick brown fox jumped over the lazy dog\"\n",
      "\n",
      "They are pretty much interchangeable.  The only difference has to do with __escaping__:\n",
      "\n",
      "\n",
      "Escaping\n",
      "------------\n",
      "Suppose you wanted to enter the string \n",
      "\n",
      "        I'm Anatoly, but some people call me \"Toly.\"\n",
      "\n",
      "how would you do it?  You can't just surround it with `\"..\"` like \n",
      "\n",
      "        \"I'm Anatoly, but some people call me \"Toly.\"\"\n",
      "        ^^^^^^^^^^^^^^^^^^^^^^^^^^^^^^^^^^^^^^^\n",
      "\n",
      "because Python would get confused and think that the string was over early (as shown).  Similarly, you can't just enclose it in single quotes because of single quote in `I'm`.  Instead, when you want to insert a quote into a quoted string, you _escape_ it by writing it as `\\\"` or `\\'`.  So we could represent the previous string as either of\n",
      "        \n",
      "        \"I'm Anatoly, but some people call me \\\"Toly.\\\"\"\n",
      "        'I\\'m Anatoly, but some people call me \"Toly.\"'      \n",
      "\n",
      "(This also means that if you want to represent a backslash, you have to write `\\\\`.)\n",
      "\n",
      "\n",
      "Gotcha 1  (file away for later, don't think about now)\n",
      "-------------\n",
      "That's in Python.  Other languages have their own rules and conventions and you often have to interface with them.  You should try to avoid dealing with these quotation and escaping rules in code -- it is a source of many bugs.  \n",
      "\n",
      "In many languages, notable bash shell scripts and SQL, the two types of quotes are not the same.  What's even worse, each of three popular SQL backends (SQLite, MySQL, and Postgres) have substantively different rules about strings and about quoting!\n",
      "\n",
      "\n",
      "Gotcha 2  (file away for later, don't think about now)\n",
      "--------------\n",
      "We never said what a character is, and it turns out to be painfully complicated.  After all, there are a whole lot of possible characters in a whole lot alphabets, many more than the 128 characters in the [ASCII](http://en.wikipedia.org/wiki/ASCII) character encoding that was once predominant.  There are a variety of systems, collectively called [Unicode](http://en.wikipedia.org/wiki/Unicode), for _encoding_ all these possible characters.\n",
      "\n",
      "When you see a Python string that has a `u` in front, e.g.,\n",
      "\n",
      "        u'I\\'m Anatoly, but some people call me \"Toly.\"'\n",
      "\n",
      "that tells Python that it is a _Unicode string_.\n",
      "\n",
      "This is something that you _shouldn't_ have to worry about: so long as you use libraries, and those libraries are smart, all the needed conversions should be handled for you.  Unfortunately, it is still possible to hit these rough edges so it's good to know about them."
     ]
    },
    {
     "cell_type": "code",
     "collapsed": false,
     "input": [
      "str1=\"I'm Anatoly, but some people call me \\\"Toly.\\\"\"\n",
      "str2='I\\'m Anatoly, but some people call me \"Toly.\"' \n",
      "print str1\n",
      "print str2\n",
      "print str1==str2"
     ],
     "language": "python",
     "metadata": {},
     "outputs": [
      {
       "output_type": "stream",
       "stream": "stdout",
       "text": [
        "I'm Anatoly, but some people call me \"Toly.\"\n",
        "I'm Anatoly, but some people call me \"Toly.\"\n",
        "True\n"
       ]
      }
     ],
     "prompt_number": 1
    },
    {
     "cell_type": "code",
     "collapsed": false,
     "input": [
      "str3=u'I\\'m Anatoly, but some people call me \"Toly.\"'\n",
      "print str1==str3\n",
      "print type(str1)\n",
      "print type(str3)\n",
      "print type(str1)==type(str3)"
     ],
     "language": "python",
     "metadata": {},
     "outputs": [
      {
       "output_type": "stream",
       "stream": "stdout",
       "text": [
        "True\n",
        "<type 'str'>\n",
        "<type 'unicode'>\n",
        "False\n"
       ]
      }
     ],
     "prompt_number": 2
    },
    {
     "cell_type": "markdown",
     "metadata": {},
     "source": [
      "Exercises\n",
      "-----------\n",
      "\n",
      "1. Fill in the following Python code\n",
      "        >>> s = ...\n",
      "        >>> print s\n",
      "   \n",
      "   so that the resulting output is\n",
      "   \n",
      "        Bob said \"I'm not sure, but I think that the quick brown fox said it would 'jump over' the lazy dog.\"\n",
      "   \n",
      "2. Without running your code, what do you think is the output of just typing\n",
      "        >>> s\n",
      "   at the REPL?\n"
     ]
    },
    {
     "cell_type": "code",
     "collapsed": false,
     "input": [
      "s = 'Bob said \"I\\'m not sure, but I think that the quick brown fox said it would \\'jump over\\' the lazy dog.\"'\n",
      "print s\n",
      "s"
     ],
     "language": "python",
     "metadata": {},
     "outputs": [
      {
       "output_type": "stream",
       "stream": "stdout",
       "text": [
        "Bob said \"I'm not sure, but I think that the quick brown fox said it would 'jump over' the lazy dog.\"\n"
       ]
      },
      {
       "metadata": {},
       "output_type": "pyout",
       "prompt_number": 4,
       "text": [
        "'Bob said \"I\\'m not sure, but I think that the quick brown fox said it would \\'jump over\\' the lazy dog.\"'"
       ]
      }
     ],
     "prompt_number": 4
    },
    {
     "cell_type": "markdown",
     "metadata": {},
     "source": [
      "Basic string processing in Python\n",
      "-----------------------------------\n",
      "The Python standard library provides a bunch of basic string functions.  For a complete list see https://docs.python.org/2/library/string.html\n",
      "\n",
      "The general pattern is that everything is invoked in `str.operation(arguments)` notation.  Let's just jump to examples for:\n",
      "\n",
      "- `split`: Splits a string along a substring\n",
      "- `join` : The opposite of split\n",
      "- `strip` : Removes leading / trailing whitespace\n",
      "- `format` / `%` : String substitution and formatting\n",
      "- `in`: check if one string is contained in another one\n",
      "- `startswith`: checks if, well, one string starts with another one\n",
      "- `+`: You can concatenate strings\n",
      "- slices: Strings behave like arrays, so you can \"slice them\""
     ]
    },
    {
     "cell_type": "code",
     "collapsed": false,
     "input": [
      "\"Once upon a midnight dreary, while I pondered weak and weary, over many a quaint and curious volume of forgottn lore.\".split(\",\")"
     ],
     "language": "python",
     "metadata": {},
     "outputs": [
      {
       "metadata": {},
       "output_type": "pyout",
       "prompt_number": 5,
       "text": [
        "['Once upon a midnight dreary',\n",
        " ' while I pondered weak and weary',\n",
        " ' over many a quaint and curious volume of forgottn lore.']"
       ]
      }
     ],
     "prompt_number": 5
    },
    {
     "cell_type": "code",
     "collapsed": false,
     "input": [
      "\"Note that the splitting string does not have to be just one character long.\".split(\"not\")"
     ],
     "language": "python",
     "metadata": {},
     "outputs": [
      {
       "metadata": {},
       "output_type": "pyout",
       "prompt_number": 6,
       "text": [
        "['Note that the splitting string does ',\n",
        " ' have to be just one character long.']"
       ]
      }
     ],
     "prompt_number": 6
    },
    {
     "cell_type": "code",
     "collapsed": false,
     "input": [
      "\", \".join([\"a\",\"b\",\"c\"])"
     ],
     "language": "python",
     "metadata": {},
     "outputs": [
      {
       "metadata": {},
       "output_type": "pyout",
       "prompt_number": 7,
       "text": [
        "'a, b, c'"
       ]
      }
     ],
     "prompt_number": 7
    },
    {
     "cell_type": "code",
     "collapsed": false,
     "input": [
      "print \"\\n\".join([\n",
      "\"Look I can make a string\",\n",
      "\"that crosses lines!\"\n",
      "])"
     ],
     "language": "python",
     "metadata": {},
     "outputs": [
      {
       "output_type": "stream",
       "stream": "stdout",
       "text": [
        "Look I can make a string\n",
        "that crosses lines!\n"
       ]
      }
     ],
     "prompt_number": 8
    },
    {
     "cell_type": "code",
     "collapsed": false,
     "input": [
      "\"    why is there so much whitespace around this?    \".strip()"
     ],
     "language": "python",
     "metadata": {},
     "outputs": [
      {
       "metadata": {},
       "output_type": "pyout",
       "prompt_number": 9,
       "text": [
        "'why is there so much whitespace around this?'"
       ]
      }
     ],
     "prompt_number": 9
    },
    {
     "cell_type": "code",
     "collapsed": false,
     "input": [
      "print \"Plug {0} into {1}\".format(\"this\", \"that\")\n",
      "print \"Hi {first} {last}!   Bye {first}.\".format(first=\"Jane\", last=\"Doe\")\n",
      "\n",
      "location = { 'city' : 'New York', 'state': 'NY' }\n",
      "print \"Welcome to {city}, {state}\".format( **location )\n",
      "\n",
      "# There is also an alternate substitution system:\n",
      "print \"Can I substitute a %s for the \" % (\"salad\" )"
     ],
     "language": "python",
     "metadata": {},
     "outputs": [
      {
       "output_type": "stream",
       "stream": "stdout",
       "text": [
        "Plug this into that\n",
        "Hi Jane Doe!   Bye Jane.\n",
        "Welcome to New York, NY\n",
        "Can I substitute a salad for the \n"
       ]
      }
     ],
     "prompt_number": 10
    },
    {
     "cell_type": "code",
     "collapsed": false,
     "input": [
      "\"ea\" in \"team\""
     ],
     "language": "python",
     "metadata": {},
     "outputs": [
      {
       "metadata": {},
       "output_type": "pyout",
       "prompt_number": 11,
       "text": [
        "True"
       ]
      }
     ],
     "prompt_number": 11
    },
    {
     "cell_type": "code",
     "collapsed": false,
     "input": [
      "\"I\" in \"there is no I in team\""
     ],
     "language": "python",
     "metadata": {},
     "outputs": [
      {
       "metadata": {},
       "output_type": "pyout",
       "prompt_number": 12,
       "text": [
        "True"
       ]
      }
     ],
     "prompt_number": 12
    },
    {
     "cell_type": "code",
     "collapsed": false,
     "input": [
      "\"The quick brown fox...\".startswith(\"The\")"
     ],
     "language": "python",
     "metadata": {},
     "outputs": [
      {
       "metadata": {},
       "output_type": "pyout",
       "prompt_number": 13,
       "text": [
        "True"
       ]
      }
     ],
     "prompt_number": 13
    },
    {
     "cell_type": "code",
     "collapsed": false,
     "input": [
      "\"Left me\" + \"et right\""
     ],
     "language": "python",
     "metadata": {},
     "outputs": [
      {
       "metadata": {},
       "output_type": "pyout",
       "prompt_number": 14,
       "text": [
        "'Left meet right'"
       ]
      }
     ],
     "prompt_number": 14
    },
    {
     "cell_type": "code",
     "collapsed": false,
     "input": [
      "\"The quick brown fox..\"[4:9]"
     ],
     "language": "python",
     "metadata": {},
     "outputs": [
      {
       "metadata": {},
       "output_type": "pyout",
       "prompt_number": 15,
       "text": [
        "'quick'"
       ]
      }
     ],
     "prompt_number": 15
    },
    {
     "cell_type": "markdown",
     "metadata": {},
     "source": [
      "**Exercises**\n",
      "\n",
      "1. Here's a string (gotten from running `ps auxww|tail -5` somewhere):\n",
      "\n",
      "        root     31457  0.0  0.0  65996  3444 ?        Ss   04:21   0:00 sshd: preygel [priv]\n",
      "        preygel  31459  0.0  0.0  65996  1444 ?        S    04:21   0:00 sshd: preygel@pts/3 \n",
      "        preygel  31460  0.1  0.0  22492  3632 pts/3    Ss   04:21   0:00 -bash\n",
      "        preygel  31478  0.0  0.0  18448  1256 pts/3    R+   04:22   0:00 ps auxww\n",
      "        preygel  31479  0.0  0.0   7236   684 pts/3    S+   04:22   0:00 tail -10\n",
      "   \n",
      "   make a python string that contains this as its contents.  \n",
      "2. Write a function to extract just the second column of each row.\n",
      "3. A CSV file contains rows that look like\n",
      "\n",
      "        2012,0000000435,5,1,1,1,1,00253,1,1,11260,02,020,0014.00,3,5,6, , , , ,8, , , , ,1,5,0138,0, , , ,NA   ,2,1,6,0000452,00005224,047.68,00085200,058.97,00000657,00001074,0\n",
      "        2012,0000001281,3,1,1,3,1,00361,3,5,11260,02,020,0028.13,3,3,6, , , , ,6, , , , ,3,3,0212,0, , , ,NA   ,2,1,6,0000492,00004579,010.50,00085200,189.96,00001614,00001761,0\n",
      "        2012,0000001281,3,1,1,3,2,00391,3,1,11260,02,020,0029.00,2,2,5, , , , ,5, , , , ,1,2,0862,3, , , ,NA   ,2,1,6,0001175,00002570,010.86,00085200,123.43,00000671,00001357,0\n",
      "        \n",
      "   where both \" \" and \"NA   \" (with any number of spaces) are meant to represent null entries.  Write a script that reads in these lines, and replaces entries that are `\" \"` or `\"NA   \"` by the empty string `\"\"`.  *Hint*: you should use the python `csv` package."
     ]
    },
    {
     "cell_type": "markdown",
     "metadata": {},
     "source": [
      "Regular expressions\n",
      "=======================\n",
      "Tasks like in #2 in the above Exercises are ubiquitous.  In this case -- because we have it on good authority that the column layout is fixed -- it's easy to do just by counting.  What if instead we had a file containing lines like the following\n",
      "\n",
      "        Docket S13-396 . ID 30546 :  A photonic micro-structured vacuum-ultraviolet radiation source based on solid-state frequency conversion .  4/3/2014\n",
      "        Docket S13-202 . ID 30260 :  Performance Enhancement of Transparent Conducting Electrodes by Mesoscale Metal Wires .  3/28/2014\n",
      "        Docket S13-211 . ID 30257 :  The Self-Assembly of Semiconducting Single-Walled Carbon Nanotubes into Dense and Aligned Rafts on Patterned Substrates .  4/3/2014\n",
      "        Docket S13-198 . ID 30246 :  Polymer matrices for ambient ionization mass spectrometry .  3/12/2014\n",
      "        Docket S13-360 . ID 30476 :  High-Performance Silicon Photoanode Passivated with an Ultrathin Nickel Film .  3/19/2014\n",
      "               ^^^^^^^      ^^^^^    ^^^^^^^^^^^^^^^^^^^^^^^^^^^^^^^^^^^^^^^^^^^^^^^^^^^^^^^^^^^^^^^^^^^^^^^^^^^^\n",
      "mixed in among other content, and we wanted to pick them out -- and to pick out the three underlined parts of each?\n",
      "\n",
      "(P.S. Each of these is intended to be one line -- it just wraps in this view!)\n",
      "\n",
      "This is a general class of problems: We want to be able to identify all strings that \"look like _this_\", and then to \"extract _that_ bit of the string.\"  __Regular expressions__ provide a concise language for specifying _this_ and _that_, and regular expression solvers in most programming languages (including Python) are a great tool for solving this class of problems.\n",
      "\n",
      "Before we get down to the dry stuff, let's see what _this_ and _that_ look like in our example:"
     ]
    },
    {
     "cell_type": "code",
     "collapsed": false,
     "input": [
      "import re\n",
      "\n",
      "lines = [\"Docket S13-396 . ID 30546 :  A photonic micro-structured vacuum-ultraviolet radiation source based on solid-state frequency conversion .  4/3/2014\",\n",
      "\"Docket S13-202 . ID 30260 :  Performance Enhancement of Transparent Conducting Electrodes by Mesoscale Metal Wires .  3/28/2014\",\n",
      "\"One might imagine I could go back to the file I copied from and insert the lines that were actually there.  But why?\",\n",
      "\"Docket S13-211 . ID 30257 :  The Self-Assembly of Semiconducting Single-Walled Carbon Nanotubes into Dense and Aligned Rafts on Patterned Substrates .  4/3/2014\",\n",
      "\"Docket S13-198 . ID 30246 :  Polymer matrices for ambient ionization mass spectrometry .  3/12/2014\",\n",
      "\"I surely must be a fish out of water.\",\n",
      "\"Docket S13-360 . ID 30476 :  High-Performance Silicon Photoanode Passivated with an Ultrathin Nickel Film .  3/19/2014\",\n",
      "\"  Docket S66-666 . ID 66666 :  On the effects of white space at the start of the string.  5/16/2014\"]\n",
      "\n",
      "for line in lines:\n",
      "    m = re.match( r\"Docket (S.*) [.] ID (\\d*) : (.*) [.]\", line )\n",
      "    if m:\n",
      "        print \"Aha, we've found them\", m.group(1), m.group(2)#, m.group(3)\n",
      "    else:\n",
      "        print \"Can't fool me that easy\""
     ],
     "language": "python",
     "metadata": {},
     "outputs": []
    },
    {
     "cell_type": "markdown",
     "metadata": {},
     "source": [
      "Regular expressions provide a very concise way of specifying _sets of strings_ from a few building blocks and operations.  It is good to think of a regular expression as a special type of program that tries to \"eat\" a string, but is picky about what it eats.  For a given regular expression, the \"set of strings\" mentioned earlier consists of those strings that it's willing to eat.  The more formal word for this is **matches**: A regular expression *matches* some set of strings.\n",
      "\n",
      "Here are some building blocks that apply to matching a single character:\n",
      "  - `.` : Matches any character (except a newline)\n",
      "  - `\\s`: Matches any whitespace character\n",
      "  - `\\d`: Matches any digit\n",
      "  - `\\w`: Matches any alphanumeric character\n",
      "  - `c` : Matches the character 'c' (and similarly for all characters that don't have some special meaning like `.` or `\\` or `[`)\n",
      "  - `[   ]`: Lists of characters, with ranges allowed: e.g., `[a-zA-Z0-9]` is the same as `\\w` in ordinary ASCII\n",
      "  - `[^  ]`: Some characters have special meaning inside brackets, for instance the caret `^` indicates negation.  That is: `[^a-zA-Z0-9]` matches everything _other than_ what [a-zA-Z0-9] matches.\n",
      "  - `$`: Matches the end of the string (or right before a newline)\n",
      "  \n",
      "Now the fun comes in when we build in notation for repetition and concatenation:\n",
      "  - `AB`: If `A` and `B` are regular expressions, then a string $s$ will match `AB` if and only if it is the concatenation $s = s_A s_B$ of a string $s_A$ matching `A` with a string $s_B$ matching `B`.  In other words, `A B` will eat a string only if it can first let `A` eat some amount and then let `B` eat from what's left over -- and they must both be happy with what they get.\n",
      "  - `*`: If `A` is any regular expression, then `A*` matches any number of repetitions of A.\n",
      "  - `+`: ... matches one or more repetitions..\n",
      "  - `?`: ... matches 0 or 1 repetions.\n",
      "  - `{m,n}`: ... matches between m and n repetitions\n",
      "  \n",
      "Finally, if a regular expression _does_ match there's another verb that applies: **captures**.  If we put part of our expression in _parentheses_ `(   )` then it will be _captured_.  This  means that the matcher will remember which part of the string was eaten by the sub-expression inside of the parentheses, so that we can access it afterwards.\n",
      "  "
     ]
    },
    {
     "cell_type": "markdown",
     "metadata": {},
     "source": [
      "**Breaking down out exampe: the RE**\n",
      "\n",
      "Now we're ready to break down our example.  Let's start with just the regular expression:\n",
      "\n",
      "                         6\n",
      "                     |vvvvvvvv|\n",
      "        r\"Docket (S.*) [.] ID (\\d*) : (.*) [.]\"\n",
      "        ^ |^^^^^^|^^^| ^^^     ^^^\n",
      "        1   2       3   4       5\n",
      "        \n",
      "1. We saw before that `u\"...\"` told Python that something is a Unicode string.  Well, `r\"...\"` tells it that it is a _raw_ string: That means that escaping rules we talked about earlier do not apply!  This is helpful for regular expressions because otherwise we'd have to write things like `\\\\d` in place of `\\d`.\n",
      "2. The regular expression `r\"Docket \"` would match exactly the string `\"Docket \"`.  None of the characters involved are special, not even space.\n",
      "3. This is a capture group.  The regular expression inside matches any string that starts with an `'S'` -- it must be an `'S'` followed by zero or more times any other character.  Why doesn't it gobble up the rest of the string in our example?  Because for the whole expression to match the next bit, 4, has to get to \"eat\" as well.\n",
      "4. This regular expression matches precisely one string: `\".\"`\n",
      "    We could also have written this as `\\.`, but we could _not_ have written just `.`.  That would match _any_ once character string.\n",
      "5. This matches a string of digits.\n",
      "6. What does this segment match?  Notice that it has no `+`, `*`, `?`, etc. in it so that it matches exactly one string: \" . ID \"\n",
      "\n",
      "So in short, we're matching a string that looks like _this_:\n",
      "  - It starts with \"Docket \";\n",
      "  - Then comes a string, starting with an \"S\", that we capture;  \n",
      "  - Then the string \" . ID \";\n",
      "  - Then comes a string of numbers that we capture;\n",
      "  - Then comes the string \" : \", then anything, followed by a period."
     ]
    },
    {
     "cell_type": "markdown",
     "metadata": {},
     "source": [
      "**Breaking down our example: Python's re library**\n",
      "\n",
      "There are three potential __gotchas__:\n",
      "\n",
      "1. In Python's `re` library, `re.match` requires that the match begin at the start of the string (though it need not eat all the way to the end).  This is not the \"normal\" behavior for regular expression libraries, which allow the match to begin anywhere: `re.search` gives this behavior.\n",
      "\n",
      "2. `re.match` returns a \"match object\".  It is not just a boolean value, but it _is_ \"truthy\" which is why we could write `if m:`\n",
      "\n",
      "3. To get the capture groups we use the match object: `m.group(..)`.  Note that this is **1** based, not zero based.  (More precisely, `m.group(0)` is the entire string matches.  This is a useful behavior since it doesn't have to eat the whole string.) "
     ]
    },
    {
     "cell_type": "markdown",
     "metadata": {},
     "source": [
      "**Exercises**\n",
      "1. Write a regular expression that'll match (US) phone numbers.  Use this to write a function that'll take in a string and output the area code and separately the rest of the number (all punctuation, etc. removed).\n",
      "1. Write a regular expression that matches an [ipv4 addresses](https://en.wikipedia.org/wiki/IP_address).\n",
      "1. Checkout http://regexone.com/ for a **fun** interactive \"tutorial\"."
     ]
    },
    {
     "cell_type": "markdown",
     "metadata": {},
     "source": [
      "Further resources\n",
      "=================\n",
      "See https://docs.python.org/2/library/re.html for Python's syntax / support of regular expressions.  "
     ]
    },
    {
     "cell_type": "code",
     "collapsed": false,
     "input": [],
     "language": "python",
     "metadata": {},
     "outputs": []
    },
    {
     "cell_type": "markdown",
     "metadata": {},
     "source": [
      "*Copyright &copy; 2014 The Data Incubator.  All rights reserved.*"
     ]
    }
   ],
   "metadata": {}
  }
 ]
}