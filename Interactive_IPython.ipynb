{
 "metadata": {
  "name": "",
  "signature": ""
 },
 "nbformat": 3,
 "nbformat_minor": 0,
 "worksheets": [
  {
   "cells": [
    {
     "cell_type": "code",
     "collapsed": false,
     "input": [
      "import matplotlib.pyplot as plt\n",
      "import pandas as pd\n",
      "import numpy as np\n",
      "import matplotlib as mpl\n",
      "import networkx as nx\n",
      "import itertools\n",
      "import collections"
     ],
     "language": "python",
     "metadata": {},
     "outputs": []
    },
    {
     "cell_type": "code",
     "collapsed": false,
     "input": [
      "from IPython.html.widgets import interact\n",
      "from IPython.html import widgets # Widget definitions\n",
      "import IPython.display as display"
     ],
     "language": "python",
     "metadata": {},
     "outputs": []
    },
    {
     "cell_type": "markdown",
     "metadata": {},
     "source": [
      "## Basic interactivity: `interact`\n",
      "The most basic type of interactivity is simply calling a given function with different parameters, controlled by a slider or drop-down box.  IPython provides this using the `interact` command.  In the following example we return to the NY Social Diary example (under projects), and investigate how the histogram of log-degrees varies as we change the \"minimum occurance\" count:"
     ]
    },
    {
     "cell_type": "code",
     "collapsed": false,
     "input": [
      "%run ~/datacourse/projects/nysocialdiary-project/src/LoadData.py\n",
      "attendee_lists = read_attendee_lists()\n",
      "name_counts = collections.Counter(name for attendee_list in attendee_lists for name in attendee_list)"
     ],
     "language": "python",
     "metadata": {},
     "outputs": []
    },
    {
     "cell_type": "code",
     "collapsed": false,
     "input": [
      "def make_multigraph(min_count):\n",
      "    vertices = set([k for k, v in name_counts.iteritems() if v >= min_count])\n",
      "    \n",
      "    M = nx.MultiGraph()\n",
      "    M.add_nodes_from(vertices)\n",
      "\n",
      "    # Add the edges\n",
      "    def uniq(l):\n",
      "        return list(set(l))\n",
      "    together_list = [ uniq([at for at in at_li if at in vertices]) for at_li in attendee_lists ]\n",
      "    for attendees in together_list:\n",
      "        if len(attendees) > 1:\n",
      "            M.add_edges_from( filter(lambda x: x[0]!=x[1], itertools.combinations(attendees, r=2) ) )   \n",
      "    return M\n",
      "\n",
      "def graph_log_degree_dist(min_count):\n",
      "    M = make_multigraph(min_count)\n",
      "    \n",
      "    # Plot.\n",
      "    df_degrees = pd.DataFrame({'degree': nx.degree(M).values()})\n",
      "    df_degrees.apply(lambda x: np.log(1+x)).hist(bins=100, normed=True)\n",
      "    plt.title(\"Log degress, amongst users mentioned at least %s times\" %(min_count,))\n",
      "    plt.xlim(0,6)\n",
      "    plt.ylim(0,1.0)\n",
      "    plt.show()\n",
      "    \n",
      "interact(graph_log_degree_dist, min_count=(4,30))"
     ],
     "language": "python",
     "metadata": {},
     "outputs": []
    },
    {
     "cell_type": "code",
     "collapsed": false,
     "input": [],
     "language": "python",
     "metadata": {},
     "outputs": []
    },
    {
     "cell_type": "markdown",
     "metadata": {},
     "source": [
      "## Displaying HTML\n",
      "IPython can embed arbitrary HTML and Javascript -- this is used behind the scenes whenever a pandas DataFrame is rendered as a table or a matplotlib image appears inline.  You can also do this explicitly -- one extreme case is to use it to embed a separate web page inside of an IFrame.\n",
      "\n",
      "We'll do two examples:\n",
      " - A map example (see the updated version of the very end of [Recommender_Example_Yelp.ipynb](Recommender_Example_Yelp.ipynb) for a more elaborate version).\n",
      " - An example where we interact with the inner iframe via Javascript."
     ]
    },
    {
     "cell_type": "markdown",
     "metadata": {},
     "source": [
      "### Map example\n",
      "We'll use a library called `folium` to generate a web page with a \"live map\" in it (using Leaflet + OpenStreetMap for the maps)."
     ]
    },
    {
     "cell_type": "code",
     "collapsed": false,
     "input": [
      "import folium\n",
      "\n",
      "import requests\n",
      "def geocode(address):\n",
      "    params = { 'format'        :'json', \n",
      "               'addressdetails': 1, \n",
      "               'q'             : address}\n",
      "    r = requests.get('http://nominatim.openstreetmap.org/search', params = params)\n",
      "    return r.json()\n",
      "\n",
      "def address_on_map(m, label, address):\n",
      "    loc_json = geocode(address)[0]\n",
      "    m.simple_marker([loc_json['lat'], loc_json['lon']], popup=label)\n",
      "\n",
      "m = folium.Map(location=[40.74, -74.00], zoom_start=13)\n",
      "address_on_map(m, \"Blueprint Health\", \"483 broadway, new york, ny 10013\")\n",
      "address_on_map(m, \"Time Warner Center\", \"10 Columbus Cir, New York, NY 10019\")\n",
      "address_on_map(m, \"Courant\", \"251 Mercer St, New York, NY 10012\")\n",
      "m._build_map()\n",
      "iframe = '<iframe id=\"map\" srcdoc=\"{0}\" style=\"width: 100%; height: 510px; border: none\"></iframe>'.format( m.HTML.replace('\"', '&quot;') )\n",
      "display.display_html(iframe, raw=True)"
     ],
     "language": "python",
     "metadata": {},
     "outputs": []
    },
    {
     "cell_type": "code",
     "collapsed": false,
     "input": [
      "print m.HTML"
     ],
     "language": "python",
     "metadata": {},
     "outputs": []
    },
    {
     "cell_type": "markdown",
     "metadata": {},
     "source": [
      "## Javascript interaction with backend server"
     ]
    },
    {
     "cell_type": "code",
     "collapsed": false,
     "input": [
      "%cd ~/datacourse/projects/flask-example/"
     ],
     "language": "python",
     "metadata": {},
     "outputs": []
    },
    {
     "cell_type": "markdown",
     "metadata": {},
     "source": [
      "This example consists of three parts:\n",
      " - Backend (`flask-server.py`): There will be a simple webserver serving a static web page and an API.  To run it we will want to do\n",
      ">         \n",
      "    python flask-server.py\n",
      "    \n",
      "   In this example we use `flask` as the Python server framework.\n",
      "   \n",
      " - Frontend (`static/interactive.html`): This is the actual web page that we'll be including (via display_html) here, inside of an iframe.  In this example we use `bootstrap` for a little bit of formatting.\n",
      " \n",
      " - The hookup (`static/interactive.js`): This is the Javascript code that allows the frontend and backend to communicate.  In this example we use a framework called `angular` for this."
     ]
    },
    {
     "cell_type": "code",
     "collapsed": false,
     "input": [
      "# Run the following code in ~/datacourse/projects/flask-example/\n",
      "# ./python flask-server.py"
     ],
     "language": "python",
     "metadata": {},
     "outputs": []
    },
    {
     "cell_type": "code",
     "collapsed": false,
     "input": [
      "## Now we'll put the front-end code in\n",
      "display.display_html('<iframe src=\"http://localhost:5000/interactive.html\" style=\"width: 100%; height: 610px; border: 1px black;\"></iframe>', raw=True)"
     ],
     "language": "python",
     "metadata": {},
     "outputs": []
    },
    {
     "cell_type": "markdown",
     "metadata": {},
     "source": [
      "###Exercise\n",
      "\n",
      "Modify the above example to be more interesting: e.g, to give business names (not just business_id's) and to graph them on a Leaflet map.\n",
      "\n",
      "Hint. You'll want to make several changes: Modify the API to return the business name and modify the HTML as needed."
     ]
    },
    {
     "cell_type": "markdown",
     "metadata": {},
     "source": [
      "##Custom display code\n",
      "If you have an Object, you can create custom drawing code for it -- analogous to how matplotlib plots show up inline automtically, without us having to explicitly call any sort of draw method, etc."
     ]
    },
    {
     "cell_type": "markdown",
     "metadata": {},
     "source": [
      "*Copyright &copy; 2014 The Data Incubator.  All rights reserved.*"
     ]
    }
   ],
   "metadata": {}
  }
 ]
}